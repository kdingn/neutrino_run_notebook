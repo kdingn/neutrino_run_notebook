{
 "cells": [
  {
   "cell_type": "code",
   "execution_count": 9,
   "metadata": {},
   "outputs": [],
   "source": [
    "import os, shutil\n",
    "import subprocess\n",
    "from datetime import datetime, timedelta, timezone"
   ]
  },
  {
   "attachments": {},
   "cell_type": "markdown",
   "metadata": {},
   "source": [
    "下記コマンドでディレクトリを移動\n",
    "> cd C:\\Users\\username\\...\\...\\NEUTRINO\\NEUTRINO-Windows-v1.3.0\\NEUTRINO"
   ]
  },
  {
   "cell_type": "code",
   "execution_count": 10,
   "metadata": {},
   "outputs": [
    {
     "name": "stdout",
     "output_type": "stream",
     "text": [
      "C:\\Users\\kdingn\\Desktop\\NEUTRINO\\NEUTRINO-Windows-v1.3.0\\NEUTRINO\n"
     ]
    }
   ],
   "source": [
    "cd cd C:\\Users\\username\\...\\...\\NEUTRINO\\NEUTRINO-Windows-v1.3.0\\NEUTRINO"
   ]
  },
  {
   "cell_type": "code",
   "execution_count": 11,
   "metadata": {},
   "outputs": [],
   "source": [
    "# parameters\n",
    "basename = \"XXXX\"\n",
    "modeldir = \"MERROW\"\n",
    "\n",
    "suffix = \"musicxml\"\n",
    "styleshift = \"0\"\n",
    "numthreads = \"4\"\n",
    "\n",
    "command1 = rf\"bin\\musicXMLtoLabel.exe score\\musicxml\\{basename}.{suffix} score\\label\\full\\{basename}.lab score\\label\\mono\\{basename}.lab\"\n",
    "command2 = rf\"bin\\NEUTRINO.exe score\\label\\full\\{basename}.lab score\\label\\timing\\{basename}.lab output\\{basename}.f0 output\\{basename}.mgc output\\{basename}.bap model\\{modeldir}\\ -n {numthreads} -k {styleshift} -m -t\"\n",
    "command3 = rf\"bin\\NSF.exe output\\{basename}.f0 output\\{basename}.mgc output\\{basename}.bap .\\model\\{modeldir}\\model_nsf.bin output\\{basename}_nsf.wav -l score\\label\\timing\\{basename}.lab -n {numthreads} -m -t\""
   ]
  },
  {
   "cell_type": "code",
   "execution_count": 12,
   "metadata": {},
   "outputs": [
    {
     "data": {
      "text/plain": [
       "'./output/202301202034_MyBraveFace_Bメロ.wav'"
      ]
     },
     "execution_count": 12,
     "metadata": {},
     "output_type": "execute_result"
    }
   ],
   "source": [
    "# exec\n",
    "subprocess.run(command1)\n",
    "subprocess.run(command2)\n",
    "subprocess.run(command3)\n",
    "\n",
    "# rm, rn\n",
    "os.remove(f\"./output/{basename}.bap\")\n",
    "os.remove(f\"./output/{basename}.f0\")\n",
    "os.remove(f\"./output/{basename}.mgc\")\n",
    "JST = timezone(timedelta(hours=+9), 'JST')\n",
    "now = datetime.now(JST).strftime('%Y%m%d%H%M')\n",
    "shutil.move(f\"./output/{basename}_nsf.wav\", f\"./output/{now}_{basename}.wav\")"
   ]
  },
  {
   "cell_type": "code",
   "execution_count": null,
   "metadata": {},
   "outputs": [],
   "source": []
  }
 ],
 "metadata": {
  "kernelspec": {
   "display_name": "Python 3",
   "language": "python",
   "name": "python3"
  },
  "language_info": {
   "codemirror_mode": {
    "name": "ipython",
    "version": 3
   },
   "file_extension": ".py",
   "mimetype": "text/x-python",
   "name": "python",
   "nbconvert_exporter": "python",
   "pygments_lexer": "ipython3",
   "version": "3.10.0"
  },
  "orig_nbformat": 4,
  "vscode": {
   "interpreter": {
    "hash": "2d638f453f03fd3bf1b047ef4806c8765240ae3bc055879b0f498d618615e5bb"
   }
  }
 },
 "nbformat": 4,
 "nbformat_minor": 2
}
